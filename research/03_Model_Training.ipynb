{
 "cells": [
  {
   "cell_type": "code",
   "execution_count": 1,
   "metadata": {},
   "outputs": [
    {
     "data": {
      "text/plain": [
       "'e:\\\\ObjectDetection\\\\ChessPieceDetection'"
      ]
     },
     "execution_count": 1,
     "metadata": {},
     "output_type": "execute_result"
    }
   ],
   "source": [
    "import os\n",
    "os.chdir(\"../\")\n",
    "%pwd"
   ]
  },
  {
   "cell_type": "code",
   "execution_count": 2,
   "metadata": {},
   "outputs": [],
   "source": [
    "from dataclasses import dataclass\n",
    "from pathlib import Path\n",
    "@dataclass(frozen= True)\n",
    "class ModelTrainingConfig:\n",
    "    root_dir: Path\n",
    "    model_dir: Path\n",
    "    trained_model: Path\n",
    "    train_dir: Path\n",
    "    test_dir: Path\n",
    "    val_dir: Path\n",
    "    data_yaml: Path\n",
    "    res_dir: Path\n",
    "    epochs: int\n",
    "    learning_rate: float\n",
    "    input_image_size: int\n",
    "    batch_size: int"
   ]
  },
  {
   "cell_type": "code",
   "execution_count": 3,
   "metadata": {},
   "outputs": [],
   "source": [
    "from src.CHESS_PIECE_DETECTION.constants import *\n",
    "from src.CHESS_PIECE_DETECTION.utils.common import read_yaml, create_directories"
   ]
  },
  {
   "cell_type": "code",
   "execution_count": 4,
   "metadata": {},
   "outputs": [],
   "source": [
    "class ConfigureationManager:\n",
    "    def __init__(self,\n",
    "            config_filepath = CONFIG_FILE_PATH,\n",
    "            params_filepath = PARAMS_FILE_PATH):\n",
    "        \n",
    "        self.config = read_yaml(config_filepath)\n",
    "        self.params = read_yaml(params_filepath)\n",
    "\n",
    "        create_directories([self.config.artifacts_root])\n",
    "\n",
    "    def get_model_training_config(self) -> ModelTrainingConfig:\n",
    "        config = self.config.training\n",
    "\n",
    "        create_directories([config.root_dir])\n",
    "\n",
    "        model_training_config = ModelTrainingConfig(\n",
    "            root_dir= Path(config.root_dir),\n",
    "            model_dir= Path(config.model_dir),\n",
    "            trained_model= Path(config.trained_model),\n",
    "            train_dir= Path(config.train_dir),\n",
    "            test_dir= Path(config.test_dir),\n",
    "            val_dir= Path(config.val_dir),\n",
    "            data_yaml= Path(config.data_yaml),\n",
    "            res_dir= Path(config.res_dir),\n",
    "            epochs= self.params.epochs,\n",
    "            learning_rate= self.params.learning_rate,\n",
    "            input_image_size= self.params.input_image_size,\n",
    "            batch_size= self.params.batch_size,\n",
    "        )\n",
    "\n",
    "        return model_training_config"
   ]
  },
  {
   "cell_type": "code",
   "execution_count": 5,
   "metadata": {},
   "outputs": [],
   "source": [
    "from ultralytics import YOLO"
   ]
  },
  {
   "cell_type": "code",
   "execution_count": 11,
   "metadata": {},
   "outputs": [],
   "source": [
    "class ModelTraining:\n",
    "    def __init__(self, config):\n",
    "        self.config = config\n",
    "    def download_model(self):\n",
    "        model_path = self.config.model_dir\n",
    "        model = YOLO(model_path / \"yolov8s.pt\")\n",
    "    \n",
    "    def model_triner(self):\n",
    "        #model = \n",
    "        \"\"\"results = model.train(\n",
    "            data=\"datasets/artifacts/data_preparation/data.yaml\",\n",
    "            epochs=25,\n",
    "            imgsz=416,\n",
    "            batch=16,\n",
    "            optimizer='SGD',\n",
    "            lr0=0.0001\n",
    "        )\"\"\"\n",
    "\n",
    "    def save_results():\n",
    "        pass"
   ]
  },
  {
   "cell_type": "code",
   "execution_count": 12,
   "metadata": {},
   "outputs": [
    {
     "name": "stdout",
     "output_type": "stream",
     "text": [
      "[2024-09-19 19:29:33,833: INFO: common: yaml file: config\\config.yaml loaded successfully]\n",
      "[2024-09-19 19:29:33,835: INFO: common: yaml file: params.yaml loaded successfully]\n",
      "[2024-09-19 19:29:33,835: INFO: common: created directory at: datasets/artifacts]\n",
      "[2024-09-19 19:29:33,845: INFO: common: created directory at: datasets/artifacts/training]\n",
      "Downloading https://github.com/ultralytics/assets/releases/download/v8.2.0/yolov8s.pt to 'datasets\\artifacts\\training\\model\\yolov8s.pt'...\n"
     ]
    },
    {
     "name": "stderr",
     "output_type": "stream",
     "text": [
      "100%|██████████| 21.5M/21.5M [00:00<00:00, 29.5MB/s]\n"
     ]
    }
   ],
   "source": [
    "try:\n",
    "    config = ConfigureationManager()\n",
    "    model_training_config = config.get_model_training_config()\n",
    "    model_training = ModelTraining(config=model_training_config)\n",
    "    model_training.download_model()\n",
    "except Exception as e:\n",
    "    raise e"
   ]
  }
 ],
 "metadata": {
  "kernelspec": {
   "display_name": "VNP_OD",
   "language": "python",
   "name": "python3"
  },
  "language_info": {
   "codemirror_mode": {
    "name": "ipython",
    "version": 3
   },
   "file_extension": ".py",
   "mimetype": "text/x-python",
   "name": "python",
   "nbconvert_exporter": "python",
   "pygments_lexer": "ipython3",
   "version": "3.8.19"
  }
 },
 "nbformat": 4,
 "nbformat_minor": 2
}
