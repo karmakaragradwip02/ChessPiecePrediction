{
 "cells": [
  {
   "cell_type": "code",
   "execution_count": 1,
   "metadata": {},
   "outputs": [
    {
     "data": {
      "text/plain": [
       "'e:\\\\ObjectDetection\\\\ChessPieceDetection'"
      ]
     },
     "execution_count": 1,
     "metadata": {},
     "output_type": "execute_result"
    }
   ],
   "source": [
    "import os\n",
    "os.chdir(\"../\")\n",
    "%pwd"
   ]
  },
  {
   "cell_type": "code",
   "execution_count": 2,
   "metadata": {},
   "outputs": [],
   "source": [
    "from dataclasses import dataclass\n",
    "from pathlib import Path\n",
    "@dataclass(frozen= True)\n",
    "class ModelTrainingConfig:\n",
    "    root_dir: Path\n",
    "    model_dir: Path\n",
    "    trained_model: Path\n",
    "    train_dir: Path\n",
    "    test_dir: Path\n",
    "    val_dir: Path\n",
    "    data_yaml: Path\n",
    "    test_res_dir: Path\n",
    "    epochs: int\n",
    "    weight_decay: float\n",
    "    learning_rate: float\n",
    "    epsilon: float\n",
    "    input_image_size: int\n",
    "    batch_size: int\n",
    "    decay_rate: float"
   ]
  },
  {
   "cell_type": "code",
   "execution_count": 3,
   "metadata": {},
   "outputs": [],
   "source": [
    "from src.CHESS_PIECE_DETECTION.constants import *\n",
    "from src.CHESS_PIECE_DETECTION.utils.common import read_yaml, create_directories"
   ]
  },
  {
   "cell_type": "code",
   "execution_count": null,
   "metadata": {},
   "outputs": [],
   "source": [
    "class ConfigureationManager:\n",
    "    def __init__(self,\n",
    "            config_filepath = CONFIG_FILE_PATH,\n",
    "            params_filepath = PARAMS_FILE_PATH):\n",
    "        \n",
    "        self.config = read_yaml(config_filepath)\n",
    "        self.params = read_yaml(params_filepath)\n",
    "\n",
    "        create_directories([self.config.artifacts_root])\n",
    "\n",
    "    def get_model_training_config(self) -> ModelTrainingConfig:\n",
    "        config = self.config.training\n",
    "\n",
    "        create_directories([config.root_dir])\n",
    "\n",
    "        model_training_config = ModelTrainingConfig(\n",
    "            root_dir = Path(config.root_dir)\n",
    "            model_dir = Path(config.model_dir)\n",
    "            trained_model = Path()\n",
    "            train_dir = Path\n",
    "            test_dir = Path\n",
    "            val_dir = Path\n",
    "            data_yaml = Path\n",
    "            test_res_dir = Path\n",
    "            epochs = self.params.epochs,\n",
    "        )\n",
    "\n",
    "        return model_training_config"
   ]
  }
 ],
 "metadata": {
  "kernelspec": {
   "display_name": "VNP_OD",
   "language": "python",
   "name": "python3"
  },
  "language_info": {
   "codemirror_mode": {
    "name": "ipython",
    "version": 3
   },
   "file_extension": ".py",
   "mimetype": "text/x-python",
   "name": "python",
   "nbconvert_exporter": "python",
   "pygments_lexer": "ipython3",
   "version": "3.8.19"
  }
 },
 "nbformat": 4,
 "nbformat_minor": 2
}
