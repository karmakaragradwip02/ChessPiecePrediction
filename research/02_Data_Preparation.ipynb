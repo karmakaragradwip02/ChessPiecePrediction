{
 "cells": [
  {
   "cell_type": "code",
   "execution_count": 1,
   "metadata": {},
   "outputs": [
    {
     "data": {
      "text/plain": [
       "'e:\\\\ObjectDetection\\\\ChessPieceDetection'"
      ]
     },
     "execution_count": 1,
     "metadata": {},
     "output_type": "execute_result"
    }
   ],
   "source": [
    "import os\n",
    "%pwd\n",
    "os.chdir(\"../\")\n",
    "%pwd"
   ]
  },
  {
   "cell_type": "code",
   "execution_count": 2,
   "metadata": {},
   "outputs": [],
   "source": [
    "from pathlib import Path\n",
    "from dataclasses import dataclass\n",
    "\n",
    "@dataclass(frozen= True)\n",
    "class DataPreparationConfig:\n",
    "    root_dir: Path\n",
    "    data_dir: Path\n",
    "    train_dir: Path\n",
    "    test_dir: Path\n",
    "    val_dir: Path\n",
    "    data_yaml: Path"
   ]
  },
  {
   "cell_type": "code",
   "execution_count": 3,
   "metadata": {},
   "outputs": [],
   "source": [
    "from src.CHESS_PIECE_DETECTION.constants import *\n",
    "from src.CHESS_PIECE_DETECTION.utils.common import read_yaml, create_directories"
   ]
  },
  {
   "cell_type": "code",
   "execution_count": 4,
   "metadata": {},
   "outputs": [],
   "source": [
    "class ConfigureationManager:\n",
    "    def __init__(self,\n",
    "            config_filepath = CONFIG_FILE_PATH,\n",
    "            params_filepath = PARAMS_FILE_PATH):\n",
    "        \n",
    "        self.config = read_yaml(config_filepath)\n",
    "        self.params = read_yaml(params_filepath)\n",
    "\n",
    "        create_directories([self.config.artifacts_root])\n",
    "\n",
    "    def get_data_preparation_config(self) -> DataPreparationConfig:\n",
    "        config = self.config.data_preparation\n",
    "\n",
    "        create_directories([config.root_dir])\n",
    "\n",
    "        data_preparation_config = DataPreparationConfig(\n",
    "            root_dir = config.root_dir,\n",
    "            data_dir = config.data_dir,\n",
    "            train_dir = config.train_dir,\n",
    "            test_dir = config.test_dir,\n",
    "            val_dir = config.val_dir,\n",
    "            data_yaml = config.data_yaml\n",
    "        )\n",
    "\n",
    "        return data_preparation_config"
   ]
  },
  {
   "cell_type": "code",
   "execution_count": 5,
   "metadata": {},
   "outputs": [],
   "source": [
    "import shutil\n",
    "import os\n",
    "import yaml\n",
    "from src.CHESS_PIECE_DETECTION import logger"
   ]
  },
  {
   "cell_type": "code",
   "execution_count": 6,
   "metadata": {},
   "outputs": [],
   "source": [
    "class DataPreparation:\n",
    "    def __init__(self, config):\n",
    "        self.config = config\n",
    "    \n",
    "    def copying_data(self, train_path, test_path, val_path):\n",
    "        train_folder = self.config.train_dir\n",
    "        test_folder = self.config.test_dir\n",
    "        val_folder = self.config.val_dir\n",
    "        try:\n",
    "            os.makedirs(train_folder, exist_ok=True)\n",
    "            os.makedirs(test_folder, exist_ok=True)\n",
    "            os.makedirs(val_folder, exist_ok=True)\n",
    "            logger.info(\"Created validation, test, and train folders\")\n",
    "        except Exception as e:\n",
    "            raise e\n",
    "\n",
    "        paths = [train_folder, test_folder, val_folder]\n",
    "        source = [train_path, test_path, val_path]\n",
    "        for path, src in zip(paths, source):\n",
    "            try:\n",
    "                if not os.path.exists(path):\n",
    "                    os.makedirs(path)\n",
    "                shutil.copytree(src, path, dirs_exist_ok=True)\n",
    "                logger.info(f\"Folder copied successfully from {src} to {path}\")\n",
    "            except Exception as e:\n",
    "                logger.info(f\"Error occurred while copying folder: {e}\")\n",
    "    def change_yaml(self, data):\n",
    "        train_folder = self.config.train_dir\n",
    "        test_folder = self.config.test_dir\n",
    "        val_folder = self.config.val_dir\n",
    "\n",
    "        try:\n",
    "            with open(data, 'r') as file:\n",
    "                config_data = yaml.safe_load(file)\n",
    "\n",
    "            config_data['train'] = train_folder+f'/images'\n",
    "            config_data['val'] = val_folder+f'/images'\n",
    "            config_data['test'] = test_folder+f'/images'\n",
    "\n",
    "            with open(data, 'w') as file:\n",
    "                yaml.safe_dump(config_data, file)\n",
    "\n",
    "            logger.info(\"YAML file updated successfully.\")\n",
    "\n",
    "            data_yaml = self.config.data_yaml\n",
    "            os.makedirs(self.config.root_dir, exist_ok=True)\n",
    "            #dest_path = os.path.join(data_yaml)#, os.path.basename(data))\n",
    "            shutil.copy(data, data_yaml)#, dest_path)\n",
    "            logger.info(f\"YAML file copied to {data_yaml}\")\n",
    "\n",
    "        except Exception as e:\n",
    "            logger.info(f\"Error while updating YAML file: {e}\")"
   ]
  },
  {
   "cell_type": "code",
   "execution_count": 7,
   "metadata": {},
   "outputs": [
    {
     "name": "stdout",
     "output_type": "stream",
     "text": [
      "[2024-09-19 19:48:35,966: INFO: common: yaml file: config\\config.yaml loaded successfully]\n",
      "[2024-09-19 19:48:35,969: INFO: common: yaml file: params.yaml loaded successfully]\n",
      "[2024-09-19 19:48:35,972: INFO: common: created directory at: datasets/artifacts]\n",
      "[2024-09-19 19:48:35,972: INFO: common: created directory at: datasets/artifacts/data_preparation]\n",
      "[2024-09-19 19:48:35,972: INFO: 1840621680: Created validation, test, and train folders]\n",
      "[2024-09-19 19:48:37,514: INFO: 1840621680: Folder copied successfully from datasets/artifacts/data_ingestion/train to datasets/artifacts/data_preparation/train]\n",
      "[2024-09-19 19:48:37,592: INFO: 1840621680: Folder copied successfully from datasets/artifacts/data_ingestion/test to datasets/artifacts/data_preparation/test]\n",
      "[2024-09-19 19:48:37,734: INFO: 1840621680: Folder copied successfully from datasets/artifacts/data_ingestion/valid to datasets/artifacts/data_preparation/valid]\n",
      "[2024-09-19 19:48:37,749: INFO: 1840621680: YAML file updated successfully.]\n",
      "[2024-09-19 19:48:37,750: INFO: 1840621680: YAML file copied to datasets/artifacts/data_preparation/data.yaml]\n"
     ]
    }
   ],
   "source": [
    "try:\n",
    "    config = ConfigureationManager()\n",
    "    data_preparation_config = config.get_data_preparation_config()\n",
    "    data_preparation = DataPreparation(config=data_preparation_config)\n",
    "    data_preparation.copying_data('datasets/artifacts/data_ingestion/train', 'datasets/artifacts/data_ingestion/test', 'datasets/artifacts/data_ingestion/valid')\n",
    "    data_preparation.change_yaml('datasets/artifacts/data_ingestion/data.yaml')\n",
    "except Exception as e:\n",
    "    raise e"
   ]
  }
 ],
 "metadata": {
  "kernelspec": {
   "display_name": "VNP_OD",
   "language": "python",
   "name": "python3"
  },
  "language_info": {
   "codemirror_mode": {
    "name": "ipython",
    "version": 3
   },
   "file_extension": ".py",
   "mimetype": "text/x-python",
   "name": "python",
   "nbconvert_exporter": "python",
   "pygments_lexer": "ipython3",
   "version": "3.8.19"
  }
 },
 "nbformat": 4,
 "nbformat_minor": 2
}
